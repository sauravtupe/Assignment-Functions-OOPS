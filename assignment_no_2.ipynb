{
  "nbformat": 4,
  "nbformat_minor": 0,
  "metadata": {
    "colab": {
      "provenance": [],
      "toc_visible": true
    },
    "kernelspec": {
      "name": "python3",
      "display_name": "Python 3"
    },
    "language_info": {
      "name": "python"
    }
  },
  "cells": [
    {
      "cell_type": "code",
      "execution_count": null,
      "metadata": {
        "id": "Twqs7o9MXHnP"
      },
      "outputs": [],
      "source": [
        "# 2. Write a basic function to greet students."
      ]
    },
    {
      "cell_type": "code",
      "source": [
        "def greet_students(student_name):\n",
        "    return f\"Hello, {student_name}! Welcome to class.\"\n",
        "\n",
        "# Example usage:\n",
        "\n",
        "student_name = input(\"Please enter your name: \")\n",
        "\n",
        "\n",
        "greeting_message = greet_students(student_name)\n",
        "print(greeting_message)"
      ],
      "metadata": {
        "colab": {
          "base_uri": "https://localhost:8080/"
        },
        "id": "mnzyODTpXNI0",
        "outputId": "d5944857-bfa8-467f-f8ea-b571746a2dab"
      },
      "execution_count": null,
      "outputs": [
        {
          "output_type": "stream",
          "name": "stdout",
          "text": [
            "Please enter your name: saurav tupe\n",
            "Hello, saurav tupe! Welcome to class.\n"
          ]
        }
      ]
    },
    {
      "cell_type": "code",
      "source": [
        "# 3. What is the difference between print and return statements?"
      ],
      "metadata": {
        "id": "ng41GjyzZI_L"
      },
      "execution_count": null,
      "outputs": []
    },
    {
      "cell_type": "code",
      "source": [
        "# print Example\n",
        "\n",
        "def greet(name):\n",
        "    print(\"Hello,\", name)\n",
        "\n",
        "greet(\"Alice\")\n",
        "\n",
        "\n",
        "\n",
        "# Return Statement Example\n",
        "\n",
        "\n",
        "def add(a, b):\n",
        "    return a + b\n",
        "\n",
        "result = add(3, 5)\n",
        "print(\"The sum is:\", result)\n",
        "\n"
      ],
      "metadata": {
        "colab": {
          "base_uri": "https://localhost:8080/"
        },
        "id": "EPafwCqIXuE5",
        "outputId": "fe5bed43-dd48-491f-c0c4-9d76eed03ae4"
      },
      "execution_count": null,
      "outputs": [
        {
          "output_type": "stream",
          "name": "stdout",
          "text": [
            "Hello, Alice\n",
            "The sum is: 8\n"
          ]
        }
      ]
    },
    {
      "cell_type": "code",
      "source": [
        "# 4. What are *args and **kwargs?"
      ],
      "metadata": {
        "id": "it1yVXvCZ82U"
      },
      "execution_count": null,
      "outputs": []
    },
    {
      "cell_type": "code",
      "source": [
        "# Example 1\n",
        "\n",
        "def my_function(*args):\n",
        "    for arg in args:\n",
        "        print(arg)\n",
        "\n",
        "my_function(1, 2, 3, 4)\n",
        "# Output:\n",
        "# 1\n",
        "# 2\n",
        "# 3\n",
        "# 4"
      ],
      "metadata": {
        "colab": {
          "base_uri": "https://localhost:8080/"
        },
        "id": "CAruycYWbjxP",
        "outputId": "2337c1f9-c8c3-44b4-a610-cc5fa901c74f"
      },
      "execution_count": null,
      "outputs": [
        {
          "output_type": "stream",
          "name": "stdout",
          "text": [
            "1\n",
            "2\n",
            "3\n",
            "4\n"
          ]
        }
      ]
    },
    {
      "cell_type": "code",
      "source": [
        "# Example 2\n",
        "\n",
        "def my_function(**kwargs):\n",
        "    for key, value in kwargs.items():\n",
        "        print(f\"{key}: {value}\")\n",
        "\n",
        "my_function(name=\"Alice\", age=30, city=\"New York\")\n",
        "# Output:\n",
        "# name: Alice\n",
        "# age: 30\n",
        "# city: New York\n"
      ],
      "metadata": {
        "colab": {
          "base_uri": "https://localhost:8080/"
        },
        "id": "TPkBuRW7bwto",
        "outputId": "38e31d3f-4e55-4b03-98d8-267237484668"
      },
      "execution_count": null,
      "outputs": [
        {
          "output_type": "stream",
          "name": "stdout",
          "text": [
            "name: Alice\n",
            "age: 30\n",
            "city: New York\n"
          ]
        }
      ]
    },
    {
      "cell_type": "code",
      "source": [
        "# Example 3\n",
        "\n",
        "def my_function(*args, **kwargs):\n",
        "    for arg in args:\n",
        "        print(arg)\n",
        "    for key, value in kwargs.items():\n",
        "        print(f\"{key}: {value}\")\n",
        "\n",
        "my_function(1, 2, 3, name=\"Alice\", age=30)\n",
        "# Output:\n",
        "# 1\n",
        "# 2\n",
        "# 3\n",
        "# name: Alice\n",
        "# age: 30\n",
        "\n"
      ],
      "metadata": {
        "colab": {
          "base_uri": "https://localhost:8080/"
        },
        "id": "1dK_bZ-5b4-J",
        "outputId": "74b1f912-da4e-4671-aaff-50001dfdd84c"
      },
      "execution_count": null,
      "outputs": [
        {
          "output_type": "stream",
          "name": "stdout",
          "text": [
            "1\n",
            "2\n",
            "3\n",
            "name: Alice\n",
            "age: 30\n"
          ]
        }
      ]
    },
    {
      "cell_type": "code",
      "source": [
        "# 5. Explain the iterator function"
      ],
      "metadata": {
        "id": "fverPo1AcBbK"
      },
      "execution_count": null,
      "outputs": []
    },
    {
      "cell_type": "code",
      "source": [
        "class MyIterator:\n",
        "    def __init__(self, data):\n",
        "        self.data = data\n",
        "        self.index = 0\n",
        "\n",
        "    def __iter__(self):\n",
        "        return self\n",
        "\n",
        "    def __next__(self):\n",
        "        if self.index < len(self.data):\n",
        "            result = self.data[self.index]\n",
        "            self.index += 1\n",
        "            return result\n",
        "        else:\n",
        "            raise StopIteration\n",
        "\n",
        "# Using the iterator\n",
        "my_iter = MyIterator([1, 2, 3, 4, 5])\n",
        "for item in my_iter:\n",
        "    print(item)\n"
      ],
      "metadata": {
        "colab": {
          "base_uri": "https://localhost:8080/"
        },
        "id": "7Q_YgIBwdCOn",
        "outputId": "7f8f7dc9-c4ab-4956-bb74-debb8b739f0e"
      },
      "execution_count": null,
      "outputs": [
        {
          "output_type": "stream",
          "name": "stdout",
          "text": [
            "1\n",
            "2\n",
            "3\n",
            "4\n",
            "5\n"
          ]
        }
      ]
    },
    {
      "cell_type": "code",
      "source": [
        "# 6. Write a code that generates the squares of numbers from 1 to n using a generator"
      ],
      "metadata": {
        "id": "Ai02fMucdZQn"
      },
      "execution_count": null,
      "outputs": []
    },
    {
      "cell_type": "code",
      "source": [
        "def squares_generator(n):\n",
        "    for i in range(1, n + 1):\n",
        "        yield i ** 2\n",
        "\n",
        "# Example usage:\n",
        "n = 5\n",
        "squares = squares_generator(n)\n",
        "for square in squares:\n",
        "    print(square)\n"
      ],
      "metadata": {
        "colab": {
          "base_uri": "https://localhost:8080/"
        },
        "id": "SXFMYIzTdGoS",
        "outputId": "ee059a26-1045-4358-bb6f-80363f7eca91"
      },
      "execution_count": null,
      "outputs": [
        {
          "output_type": "stream",
          "name": "stdout",
          "text": [
            "1\n",
            "4\n",
            "9\n",
            "16\n",
            "25\n"
          ]
        }
      ]
    },
    {
      "cell_type": "code",
      "source": [
        "# 7. Write a code that generates palindromic numbers up to n using a generator."
      ],
      "metadata": {
        "id": "GUgbSti8dkW8"
      },
      "execution_count": null,
      "outputs": []
    },
    {
      "cell_type": "code",
      "source": [
        "def is_palindrome(num):\n",
        "    # Convert number to string and check if it's equal to its reverse\n",
        "    return str(num) == str(num)[::-1]\n",
        "\n",
        "def generate_palindromes(n):\n",
        "    # Iterate over numbers up to n and yield palindromic ones\n",
        "    for num in range(1, n+1):\n",
        "        if is_palindrome(num):\n",
        "            yield num\n",
        "\n",
        "\n",
        "n = 100\n",
        "palindrome_generator = generate_palindromes(n)\n",
        "print(\"Palindromic numbers up to\", n, \":\")\n",
        "for palindrome in palindrome_generator:\n",
        "    print(palindrome)\n"
      ],
      "metadata": {
        "colab": {
          "base_uri": "https://localhost:8080/"
        },
        "id": "0ysnfq1gi69d",
        "outputId": "f9d64302-23b4-4da6-edab-b8ddc1b84639"
      },
      "execution_count": null,
      "outputs": [
        {
          "output_type": "stream",
          "name": "stdout",
          "text": [
            "Palindromic numbers up to 100 :\n",
            "1\n",
            "2\n",
            "3\n",
            "4\n",
            "5\n",
            "6\n",
            "7\n",
            "8\n",
            "9\n",
            "11\n",
            "22\n",
            "33\n",
            "44\n",
            "55\n",
            "66\n",
            "77\n",
            "88\n",
            "99\n"
          ]
        }
      ]
    },
    {
      "cell_type": "code",
      "source": [
        "# 8. Write a code that generates even numbers from 2 to n using a generator"
      ],
      "metadata": {
        "id": "xcNReWDEjAN_"
      },
      "execution_count": null,
      "outputs": []
    },
    {
      "cell_type": "code",
      "source": [
        "def generate_even_numbers(n):\n",
        "    # Start from 2 and iterate up to n, yielding even numbers\n",
        "    for num in range(2, n+1, 2):\n",
        "        yield num\n",
        "\n",
        "\n",
        "\n",
        "n = 20\n",
        "even_generator = generate_even_numbers(n)\n",
        "print(\"Even numbers from 2 to\", n, \":\")\n",
        "for even_num in even_generator:\n",
        "    print(even_num)\n"
      ],
      "metadata": {
        "colab": {
          "base_uri": "https://localhost:8080/"
        },
        "id": "PtAUZWQyjkn3",
        "outputId": "2c96e2d0-5a10-4f3f-a9b5-e71de97388f1"
      },
      "execution_count": null,
      "outputs": [
        {
          "output_type": "stream",
          "name": "stdout",
          "text": [
            "Even numbers from 2 to 20 :\n",
            "2\n",
            "4\n",
            "6\n",
            "8\n",
            "10\n",
            "12\n",
            "14\n",
            "16\n",
            "18\n",
            "20\n"
          ]
        }
      ]
    },
    {
      "cell_type": "code",
      "source": [
        "# 9. Write a code that generates powers of two up to n using a generator."
      ],
      "metadata": {
        "id": "BGE0QR9jjpaI"
      },
      "execution_count": null,
      "outputs": []
    },
    {
      "cell_type": "code",
      "source": [
        "def generate_powers_of_two(n):\n",
        "    power = 1\n",
        "    while power <= n:\n",
        "        yield power\n",
        "        power *= 2\n",
        "\n",
        "\n",
        "\n",
        "n = 100\n",
        "power_of_two_generator = generate_powers_of_two(n)\n",
        "print(\"Powers of two up to\", n, \":\")\n",
        "for power in power_of_two_generator:\n",
        "    print(power)\n",
        "\n"
      ],
      "metadata": {
        "colab": {
          "base_uri": "https://localhost:8080/"
        },
        "id": "pWQPNqs7j2Da",
        "outputId": "ff6b18d0-3bb6-49e3-d393-3c80e9f9fb2d"
      },
      "execution_count": null,
      "outputs": [
        {
          "output_type": "stream",
          "name": "stdout",
          "text": [
            "Powers of two up to 100 :\n",
            "1\n",
            "2\n",
            "4\n",
            "8\n",
            "16\n",
            "32\n",
            "64\n"
          ]
        }
      ]
    },
    {
      "cell_type": "code",
      "source": [
        "# 10. Write a code that generates prime numbers up to n using a generator."
      ],
      "metadata": {
        "id": "4goDYdA7j8cs"
      },
      "execution_count": null,
      "outputs": []
    },
    {
      "cell_type": "code",
      "source": [
        "def is_prime(num):\n",
        "    if num <= 1:\n",
        "        return False\n",
        "    elif num <= 3:\n",
        "        return True\n",
        "    elif num % 2 == 0 or num % 3 == 0:\n",
        "        return False\n",
        "    i = 5\n",
        "    while i * i <= num:\n",
        "        if num % i == 0 or num % (i + 2) == 0:\n",
        "            return False\n",
        "        i += 6\n",
        "    return True\n",
        "\n",
        "def generate_primes(n):\n",
        "    # Start from 2 and iterate up to n, yielding prime numbers\n",
        "    for num in range(2, n+1):\n",
        "        if is_prime(num):\n",
        "            yield num\n",
        "\n",
        "# Example usage:\n",
        "n = 100\n",
        "prime_generator = generate_primes(n)\n",
        "print(\"Prime numbers up to\", n, \":\")\n",
        "for prime in prime_generator:\n",
        "    print(prime)\n"
      ],
      "metadata": {
        "colab": {
          "base_uri": "https://localhost:8080/"
        },
        "id": "LFjQHFqqkD7r",
        "outputId": "50c43487-08b7-494f-9c6e-d5d303055309"
      },
      "execution_count": null,
      "outputs": [
        {
          "output_type": "stream",
          "name": "stdout",
          "text": [
            "Prime numbers up to 100 :\n",
            "2\n",
            "3\n",
            "5\n",
            "7\n",
            "11\n",
            "13\n",
            "17\n",
            "19\n",
            "23\n",
            "29\n",
            "31\n",
            "37\n",
            "41\n",
            "43\n",
            "47\n",
            "53\n",
            "59\n",
            "61\n",
            "67\n",
            "71\n",
            "73\n",
            "79\n",
            "83\n",
            "89\n",
            "97\n"
          ]
        }
      ]
    },
    {
      "cell_type": "code",
      "source": [
        "# 11. Write a code that uses a lambda function to calculate the sum of two numbers"
      ],
      "metadata": {
        "id": "Ng10ohYLkKpk"
      },
      "execution_count": null,
      "outputs": []
    },
    {
      "cell_type": "code",
      "source": [
        "# Define a lambda function to calculate the sum of two numbers\n",
        "sum_function = lambda x, y: x + y\n",
        "\n",
        "# Example usage:\n",
        "num1 = 10\n",
        "num2 = 20\n",
        "result = sum_function(num1, num2)\n",
        "print(\"Sum of\", num1, \"and\", num2, \"is:\", result)\n"
      ],
      "metadata": {
        "colab": {
          "base_uri": "https://localhost:8080/"
        },
        "id": "MYH6CdN8k-OC",
        "outputId": "1ba93a23-5299-41cf-cc9e-758ba5189465"
      },
      "execution_count": null,
      "outputs": [
        {
          "output_type": "stream",
          "name": "stdout",
          "text": [
            "Sum of 10 and 20 is: 30\n"
          ]
        }
      ]
    },
    {
      "cell_type": "code",
      "source": [
        "# 12. Write a code that uses a lambda function to calculate the square of a given number"
      ],
      "metadata": {
        "id": "ci6hdOE_lDmz"
      },
      "execution_count": null,
      "outputs": []
    },
    {
      "cell_type": "code",
      "source": [
        "# Define a lambda function to calculate the square of a number\n",
        "square_function = lambda x: x ** 2\n",
        "\n",
        "\n",
        "number = 5\n",
        "result = square_function(number)\n",
        "print(\"Square of\", number, \"is:\", result)\n"
      ],
      "metadata": {
        "colab": {
          "base_uri": "https://localhost:8080/"
        },
        "id": "SWsDwl7GlO8G",
        "outputId": "daa00e57-0971-4d12-e6fb-c280d74721ef"
      },
      "execution_count": null,
      "outputs": [
        {
          "output_type": "stream",
          "name": "stdout",
          "text": [
            "Square of 5 is: 25\n"
          ]
        }
      ]
    },
    {
      "cell_type": "code",
      "source": [
        "# 13. Write a code that uses a lambda function to check whether a given number is even or odd."
      ],
      "metadata": {
        "id": "eGERC9_8lQFt"
      },
      "execution_count": null,
      "outputs": []
    },
    {
      "cell_type": "code",
      "source": [
        "is_even = lambda x: x % 2 == 0\n",
        "\n",
        "# Example usage:\n",
        "number = int(input(\"enter the number\"))\n",
        "if is_even(number):\n",
        "    print(number, \"is even.\")\n",
        "else:\n",
        "    print(number, \"is odd.\")\n"
      ],
      "metadata": {
        "colab": {
          "base_uri": "https://localhost:8080/"
        },
        "id": "vPd4voV5lf7v",
        "outputId": "73297994-f986-4d85-848a-c15e08b5a904"
      },
      "execution_count": null,
      "outputs": [
        {
          "output_type": "stream",
          "name": "stdout",
          "text": [
            "enter the number9\n",
            "9 is odd.\n"
          ]
        }
      ]
    },
    {
      "cell_type": "code",
      "source": [
        "# 15. Write a code that uses a lambda function to concatenate two strings."
      ],
      "metadata": {
        "id": "zi847MH3lkSf"
      },
      "execution_count": null,
      "outputs": []
    },
    {
      "cell_type": "code",
      "source": [
        "# Define a lambda function to concatenate two strings\n",
        "concatenate_strings = lambda str1, str2: str1 + str2\n",
        "\n",
        "# Example usage:\n",
        "\n",
        "string1 = \"Hello, \"\n",
        "string2 = \"world!\"\n",
        "result = concatenate_strings(string1, string2)\n",
        "print(\"Concatenated string:\", result)\n"
      ],
      "metadata": {
        "colab": {
          "base_uri": "https://localhost:8080/"
        },
        "id": "Y5Su4C3EmBoa",
        "outputId": "cb508012-da98-4b2e-e06f-d7bc7b51ffb9"
      },
      "execution_count": null,
      "outputs": [
        {
          "output_type": "stream",
          "name": "stdout",
          "text": [
            "Concatenated string: Hello, world!\n"
          ]
        }
      ]
    },
    {
      "cell_type": "code",
      "source": [
        "# 16. Write a code that uses a lambda function to find the maximum of three given numbers."
      ],
      "metadata": {
        "id": "NH_LfsegmI0b"
      },
      "execution_count": null,
      "outputs": []
    },
    {
      "cell_type": "code",
      "source": [
        "\n",
        "# Define a lambda function to find the maximum of three numbers\n",
        "find_max = lambda x, y, z: max(x, y, z)\n",
        "\n",
        "# Example usage:\n",
        "num1 = 10\n",
        "num2 = 25\n",
        "num3 = 15\n",
        "max_number = find_max(num1, num2, num3)\n",
        "print(\"Maximum of\", num1, \",\", num2, \"and\", num3, \"is:\", max_number)\n"
      ],
      "metadata": {
        "colab": {
          "base_uri": "https://localhost:8080/"
        },
        "id": "g4J4sX0UmQmk",
        "outputId": "27694f3d-d3c8-4a41-e96c-62cb28f7385e"
      },
      "execution_count": null,
      "outputs": [
        {
          "output_type": "stream",
          "name": "stdout",
          "text": [
            "Maximum of 10 , 25 and 15 is: 25\n"
          ]
        }
      ]
    },
    {
      "cell_type": "code",
      "source": [
        "# 17. Write a code that generates the squares of even numbers from a given list."
      ],
      "metadata": {
        "id": "TUXkDNl1mWgt"
      },
      "execution_count": null,
      "outputs": []
    },
    {
      "cell_type": "code",
      "source": [
        "\n",
        "\n",
        "# Given list of numbers\n",
        "numbers = [1, 2, 3, 4, 5, 6, 7, 8, 9, 10]\n",
        "\n",
        "# Use a lambda function to filter even numbers and generate their squares\n",
        "squared_even_numbers = map(lambda x: x**2, filter(lambda x: x % 2 == 0, numbers))\n",
        "\n",
        "# Convert the result to a list for easier visualization\n",
        "squared_even_numbers_list = list(squared_even_numbers)\n",
        "\n",
        "# Print the result\n",
        "print(\"Squares of even numbers from the list:\", squared_even_numbers_list)\n"
      ],
      "metadata": {
        "colab": {
          "base_uri": "https://localhost:8080/"
        },
        "id": "0fBAdkkcme-N",
        "outputId": "54e47b4b-3016-48d6-8c44-be1441ab096f"
      },
      "execution_count": null,
      "outputs": [
        {
          "output_type": "stream",
          "name": "stdout",
          "text": [
            "Squares of even numbers from the list: [4, 16, 36, 64, 100]\n"
          ]
        }
      ]
    },
    {
      "cell_type": "code",
      "source": [
        "# 18. Write a code that calculates the product of positive numbers from a given list."
      ],
      "metadata": {
        "id": "a6v-WeY1mn8Z"
      },
      "execution_count": null,
      "outputs": []
    },
    {
      "cell_type": "code",
      "source": [
        "\n",
        "numbers = [-2, 3, -4, 5, 6, -7, 8, -9, 10]\n",
        "\n",
        "# Use a lambda function to filter positive numbers\n",
        "positive_numbers = filter(lambda x: x > 0, numbers)\n",
        "\n",
        "# Define a function to calculate the product of numbers\n",
        "def calculate_product(numbers):\n",
        "    product = 1\n",
        "    for num in numbers:\n",
        "        product *= num\n",
        "    return product\n",
        "\n",
        "# Calculate the product of positive numbers\n",
        "product_of_positive_numbers = calculate_product(positive_numbers)\n",
        "\n",
        "# Print the result\n",
        "print(\"Product of positive numbers from the list:\", product_of_positive_numbers)\n"
      ],
      "metadata": {
        "colab": {
          "base_uri": "https://localhost:8080/"
        },
        "id": "jy4WSNELm3q5",
        "outputId": "a5a8bc4a-a60e-471c-a49f-4fb9004febec"
      },
      "execution_count": null,
      "outputs": [
        {
          "output_type": "stream",
          "name": "stdout",
          "text": [
            "Product of positive numbers from the list: 7200\n"
          ]
        }
      ]
    },
    {
      "cell_type": "code",
      "source": [
        " # 19. Write a code that doubles the values of odd numbers from a given list"
      ],
      "metadata": {
        "id": "XdsaDjDZnBNo"
      },
      "execution_count": null,
      "outputs": []
    },
    {
      "cell_type": "code",
      "source": [
        "# Given list of numbers\n",
        "numbers = [1, 2, 3, 4, 5, 6, 7, 8, 9, 10]\n",
        "\n",
        "# Use a lambda function to filter odd numbers and double their values\n",
        "doubled_odd_numbers = map(lambda x: x * 2 if x % 2 != 0 else x, numbers)\n",
        "\n",
        "# Convert the result to a list for easier visualization\n",
        "doubled_odd_numbers_list = list(doubled_odd_numbers)\n",
        "\n",
        "# Print the result\n",
        "print(\"Doubled values of odd numbers from the list:\", doubled_odd_numbers_list)\n"
      ],
      "metadata": {
        "colab": {
          "base_uri": "https://localhost:8080/"
        },
        "id": "vsC14WWUnZ0N",
        "outputId": "ddbaba9a-e169-4de3-9dbe-0bf6c87c7779"
      },
      "execution_count": null,
      "outputs": [
        {
          "output_type": "stream",
          "name": "stdout",
          "text": [
            "Doubled values of odd numbers from the list: [2, 2, 6, 4, 10, 6, 14, 8, 18, 10]\n"
          ]
        }
      ]
    },
    {
      "cell_type": "code",
      "source": [
        "# 20. Write a code that calculates the sum of cubes of numbers from a given list."
      ],
      "metadata": {
        "id": "Taiz7isnnfGG"
      },
      "execution_count": null,
      "outputs": []
    },
    {
      "cell_type": "code",
      "source": [
        "# Given list of numbers\n",
        "numbers = [1, 2, 3, 4, 5]\n",
        "\n",
        "# Use a lambda function to calculate the cube of each number\n",
        "cubes = map(lambda x: x**3, numbers)\n",
        "\n",
        "# Calculate the sum of cubes\n",
        "sum_of_cubes = sum(cubes)\n",
        "\n",
        "# Print the result\n",
        "print(\"Sum of cubes of numbers from the list:\", sum_of_cubes)\n"
      ],
      "metadata": {
        "colab": {
          "base_uri": "https://localhost:8080/"
        },
        "id": "edq0BAjgnpr9",
        "outputId": "5d5bed37-e0cc-496c-f3cf-5d8434388f96"
      },
      "execution_count": null,
      "outputs": [
        {
          "output_type": "stream",
          "name": "stdout",
          "text": [
            "Sum of cubes of numbers from the list: 225\n"
          ]
        }
      ]
    },
    {
      "cell_type": "code",
      "source": [
        "# 21. Write a code that filters out prime numbers from a given list"
      ],
      "metadata": {
        "id": "Jp_ERvFxnqtN"
      },
      "execution_count": null,
      "outputs": []
    },
    {
      "cell_type": "code",
      "source": [
        "def is_prime(num):\n",
        "    if num <= 1:\n",
        "        return False\n",
        "    elif num <= 3:\n",
        "        return True\n",
        "    elif num % 2 == 0 or num % 3 == 0:\n",
        "        return False\n",
        "    i = 5\n",
        "    while i * i <= num:\n",
        "        if num % i == 0 or num % (i + 2) == 0:\n",
        "            return False\n",
        "        i += 6\n",
        "    return True\n",
        "\n",
        "# Given list of numbers\n",
        "numbers = [1, 2, 3, 4, 5, 6, 7, 8, 9, 10]\n",
        "\n",
        "# Use a lambda function to filter prime numbers\n",
        "prime_numbers = filter(is_prime, numbers)\n",
        "\n",
        "# Convert the result to a list for easier visualization\n",
        "prime_numbers_list = list(prime_numbers)\n",
        "\n",
        "# Print the result\n",
        "print(\"Prime numbers from the list:\", prime_numbers_list)\n"
      ],
      "metadata": {
        "colab": {
          "base_uri": "https://localhost:8080/"
        },
        "id": "B0vA5yOVn0i-",
        "outputId": "6cd36fca-9c54-4c0a-efba-6e17c3d88ba9"
      },
      "execution_count": null,
      "outputs": [
        {
          "output_type": "stream",
          "name": "stdout",
          "text": [
            "Prime numbers from the list: [2, 3, 5, 7]\n"
          ]
        }
      ]
    },
    {
      "cell_type": "code",
      "source": [
        "# 22. Write a code that uses a lambda function to calculate the sum of two numbers"
      ],
      "metadata": {
        "id": "Zd0Ug1eFn5zF"
      },
      "execution_count": null,
      "outputs": []
    },
    {
      "cell_type": "code",
      "source": [
        "# Define a lambda function to calculate the sum of two numbers\n",
        "sum_function = lambda x, y: x + y\n",
        "\n",
        "# Example usage:\n",
        "num1 = 10\n",
        "num2 = 20\n",
        "result = sum_function(num1, num2)\n",
        "print(\"Sum of\", num1, \"and\", num2, \"is:\", result)\n"
      ],
      "metadata": {
        "colab": {
          "base_uri": "https://localhost:8080/"
        },
        "id": "KGEgeEQ_oAa1",
        "outputId": "a82986ec-4c49-4fee-fcac-b0d372ab46b9"
      },
      "execution_count": null,
      "outputs": [
        {
          "output_type": "stream",
          "name": "stdout",
          "text": [
            "Sum of 10 and 20 is: 30\n"
          ]
        }
      ]
    },
    {
      "cell_type": "code",
      "source": [
        "# 23. Write a code that uses a lambda function to calculate the square of a given number."
      ],
      "metadata": {
        "id": "_Ia9FurooFcX"
      },
      "execution_count": null,
      "outputs": []
    },
    {
      "cell_type": "code",
      "source": [
        "# Define a lambda function to calculate the square of a number\n",
        "square_function = lambda x: x ** 2\n",
        "\n",
        "# Example usage:\n",
        "number = 5\n",
        "result = square_function(number)\n",
        "print(\"Square of\", number, \"is:\", result)\n"
      ],
      "metadata": {
        "colab": {
          "base_uri": "https://localhost:8080/"
        },
        "id": "CPqnWlCEo48G",
        "outputId": "5300cbdd-b25a-4c75-b4a9-d8aa2a209a0a"
      },
      "execution_count": null,
      "outputs": [
        {
          "output_type": "stream",
          "name": "stdout",
          "text": [
            "Square of 5 is: 25\n"
          ]
        }
      ]
    },
    {
      "cell_type": "code",
      "source": [
        "# 24. Write a code that uses a lambda function to check whether a given number is even or odd."
      ],
      "metadata": {
        "id": "c1hNA5yuo_bw"
      },
      "execution_count": null,
      "outputs": []
    },
    {
      "cell_type": "code",
      "source": [
        "# Define a lambda function to check if a number is even\n",
        "is_even = lambda x: x % 2 == 0\n",
        "\n",
        "# Example usage:\n",
        "number = 7\n",
        "if is_even(number):\n",
        "    print(number, \"is even.\")\n",
        "else:\n",
        "    print(number, \"is odd.\")\n"
      ],
      "metadata": {
        "colab": {
          "base_uri": "https://localhost:8080/"
        },
        "id": "RBFWgHjppGo3",
        "outputId": "e73b45c1-e92a-4e1a-f515-5671d66e2c67"
      },
      "execution_count": null,
      "outputs": [
        {
          "output_type": "stream",
          "name": "stdout",
          "text": [
            "7 is odd.\n"
          ]
        }
      ]
    },
    {
      "cell_type": "code",
      "source": [
        "# 25. Write a code that uses a lambda function to concatenate two strings."
      ],
      "metadata": {
        "id": "D5ZsPK_cpKsT"
      },
      "execution_count": null,
      "outputs": []
    },
    {
      "cell_type": "code",
      "source": [
        "# Define a lambda function to concatenate two strings\n",
        "concatenate_strings = lambda str1, str2: str1 + str2\n",
        "\n",
        "# Example usage:\n",
        "string1 = \"Hello, \"\n",
        "string2 = \"world!\"\n",
        "result = concatenate_strings(string1, string2)\n",
        "print(\"Concatenated string:\", result)\n"
      ],
      "metadata": {
        "colab": {
          "base_uri": "https://localhost:8080/"
        },
        "id": "H23DkPk2phGk",
        "outputId": "9001033d-bd36-4058-d1e7-f62aef3d74f9"
      },
      "execution_count": null,
      "outputs": [
        {
          "output_type": "stream",
          "name": "stdout",
          "text": [
            "Concatenated string: Hello, world!\n"
          ]
        }
      ]
    },
    {
      "cell_type": "code",
      "source": [
        "# 26. Write a code that uses a lambda function to find the maximum of three given numbers."
      ],
      "metadata": {
        "id": "f6FhznqwpmnX"
      },
      "execution_count": null,
      "outputs": []
    },
    {
      "cell_type": "code",
      "source": [
        "# Define a lambda function to find the maximum of three numbers\n",
        "find_max = lambda x, y, z: max(x, y, z)\n",
        "\n",
        "# Example usage:\n",
        "num1 = 10\n",
        "num2 = 25\n",
        "num3 = 15\n",
        "max_number = find_max(num1, num2, num3)\n",
        "print(\"Maximum of\", num1, \",\", num2, \"and\", num3, \"is:\", max_number)\n"
      ],
      "metadata": {
        "colab": {
          "base_uri": "https://localhost:8080/"
        },
        "id": "HLE88e3Wp04F",
        "outputId": "0d7a4e88-a145-4866-8e4e-4b36ef1d3ab4"
      },
      "execution_count": null,
      "outputs": [
        {
          "output_type": "stream",
          "name": "stdout",
          "text": [
            "Maximum of 10 , 25 and 15 is: 25\n"
          ]
        }
      ]
    },
    {
      "cell_type": "code",
      "source": [
        "# 28. Explain the use of access modifiers in Python classes."
      ],
      "metadata": {
        "id": "MFPwlbFZp1rs"
      },
      "execution_count": null,
      "outputs": []
    },
    {
      "cell_type": "code",
      "source": [
        "class MyClass:\n",
        "    def __init__(self):\n",
        "        self.public_attribute = 10\n",
        "        self._protected_attribute = 20\n",
        "        self.__private_attribute = 30\n",
        "\n",
        "    def public_method(self):\n",
        "        print(\"This is a public method\")\n",
        "\n",
        "    def _protected_method(self):\n",
        "        print(\"This is a protected method\")\n",
        "\n",
        "    def __private_method(self):\n",
        "        print(\"This is a private method\")\n",
        "\n",
        "\n",
        "obj = MyClass()\n",
        "\n",
        "# Accessing public members\n",
        "print(obj.public_attribute)\n",
        "obj.public_method()\n",
        "\n",
        "# Accessing protected members\n",
        "print(obj._protected_attribute)\n",
        "obj._protected_method()\n",
        "\n",
        "\n",
        "# Accessing private members through name mangling\n",
        "print(obj._MyClass__private_attribute)   # Output: 30\n",
        "obj._MyClass__private_method()           # Output: This is a private method\n"
      ],
      "metadata": {
        "colab": {
          "base_uri": "https://localhost:8080/"
        },
        "id": "wKenNw32rP4q",
        "outputId": "80fe83d7-72a7-4ecf-95b4-769ba05acb52"
      },
      "execution_count": null,
      "outputs": [
        {
          "output_type": "stream",
          "name": "stdout",
          "text": [
            "10\n",
            "This is a public method\n",
            "20\n",
            "This is a protected method\n",
            "30\n",
            "This is a private method\n"
          ]
        }
      ]
    },
    {
      "cell_type": "code",
      "source": [
        "# 29. What is inheritance in OOP?"
      ],
      "metadata": {
        "id": "K4J0XcrlrbSU"
      },
      "execution_count": null,
      "outputs": []
    },
    {
      "cell_type": "code",
      "source": [
        "class Animal:\n",
        "    def __init__(self, name):\n",
        "        self.name = name\n",
        "\n",
        "    def speak(self):\n",
        "        pass\n",
        "\n",
        "class Dog(Animal):\n",
        "    def speak(self):\n",
        "        return \"Woof!\"\n",
        "\n",
        "class Cat(Animal):\n",
        "    def speak(self):\n",
        "        return \"Meow!\"\n",
        "\n",
        "# Creating instances of subclasses\n",
        "dog = Dog(\"Buddy\")\n",
        "cat = Cat(\"Whiskers\")\n",
        "\n",
        "# Calling methods inherited from superclass\n",
        "print(dog.name, \"says:\", dog.speak())   # Output: Buddy says: Woof!\n",
        "print(cat.name, \"says:\", cat.speak())   # Output: Whiskers says: Meow!\n"
      ],
      "metadata": {
        "colab": {
          "base_uri": "https://localhost:8080/"
        },
        "id": "fnWkHyuBr9KA",
        "outputId": "713d1a59-5187-4a5f-90b4-93fde7c7fa75"
      },
      "execution_count": null,
      "outputs": [
        {
          "output_type": "stream",
          "name": "stdout",
          "text": [
            "Buddy says: Woof!\n",
            "Whiskers says: Meow!\n"
          ]
        }
      ]
    },
    {
      "cell_type": "code",
      "source": [
        "# 32. Define a parent class Animal with a method make_sound that prints \"Generic animal sound\". Create a child class Dog inheriting from Animal with a method make_sound that prints \"Woof!"
      ],
      "metadata": {
        "id": "Mk2fU9dVsOPr"
      },
      "execution_count": null,
      "outputs": []
    },
    {
      "cell_type": "code",
      "source": [
        "class Animal:\n",
        "    def make_sound(self):\n",
        "        print(\"Generic animal sound\")\n",
        "\n",
        "class Dog(Animal):\n",
        "    def make_sound(self):\n",
        "        print(\"Woof!\")\n",
        "\n",
        "# Creating an instance of Dog\n",
        "dog = Dog()\n",
        "\n",
        "# Calling the make_sound() method of the Dog class\n",
        "dog.make_sound()  # Output: Woof!\n"
      ],
      "metadata": {
        "colab": {
          "base_uri": "https://localhost:8080/"
        },
        "id": "0y0Tp62guHH6",
        "outputId": "cf212e7d-7ac6-43d3-df3e-16a80b02a110"
      },
      "execution_count": null,
      "outputs": [
        {
          "output_type": "stream",
          "name": "stdout",
          "text": [
            "Woof!\n"
          ]
        }
      ]
    },
    {
      "cell_type": "code",
      "source": [
        "# 33. Define a method move in the Animal class that prints \"Animal moves\". Override the move method in the Dog class to print \"Dog runs.\""
      ],
      "metadata": {
        "id": "9KF0JtiBuKHh"
      },
      "execution_count": null,
      "outputs": []
    },
    {
      "cell_type": "code",
      "source": [
        "class Animal:\n",
        "    def move(self):\n",
        "        print(\"Animal moves\")\n",
        "\n",
        "class Dog(Animal):\n",
        "    def move(self):\n",
        "        print(\"Dog runs\")\n",
        "\n",
        "# Creating an instance of Dog\n",
        "dog = Dog()\n",
        "\n",
        "# Calling the move() method of the Dog class\n",
        "dog.move()  # Output: Dog runs\n"
      ],
      "metadata": {
        "colab": {
          "base_uri": "https://localhost:8080/"
        },
        "id": "1FdH49nxuX4z",
        "outputId": "6ab9fb79-ccd8-4119-bbcd-2857fb29d69e"
      },
      "execution_count": null,
      "outputs": [
        {
          "output_type": "stream",
          "name": "stdout",
          "text": [
            "Dog runs\n"
          ]
        }
      ]
    },
    {
      "cell_type": "code",
      "source": [
        "# 34. Create a class Mammal with a method reproduce that prints \"Giving birth to live young.\" Create a class DogMammal inheriting from both Dog and Mammal."
      ],
      "metadata": {
        "id": "FOa0M4buuZhD"
      },
      "execution_count": null,
      "outputs": []
    },
    {
      "cell_type": "code",
      "source": [
        "class Mammal:\n",
        "    def reproduce(self):\n",
        "        print(\"Giving birth to live young.\")\n",
        "\n",
        "class Dog:\n",
        "    def make_sound(self):\n",
        "        print(\"Woof!\")\n",
        "\n",
        "class DogMammal(Dog, Mammal):\n",
        "    pass\n",
        "\n",
        "# Creating an instance of DogMammal\n",
        "dog_mammal = DogMammal()\n",
        "\n",
        "# Calling the reproduce() method of the DogMammal class\n",
        "dog_mammal.reproduce()  # Output: Giving birth to live young.\n"
      ],
      "metadata": {
        "colab": {
          "base_uri": "https://localhost:8080/"
        },
        "id": "Q5jqtmQKunId",
        "outputId": "9331594e-89ca-4aa7-9c71-45577fae0757"
      },
      "execution_count": null,
      "outputs": [
        {
          "output_type": "stream",
          "name": "stdout",
          "text": [
            "Giving birth to live young.\n"
          ]
        }
      ]
    },
    {
      "cell_type": "code",
      "source": [
        "# 35. Create a class German Shepherd inheriting from Dog and override the make_sound method to print \"Bark!\""
      ],
      "metadata": {
        "id": "nhNhX-11uoE8"
      },
      "execution_count": null,
      "outputs": []
    },
    {
      "cell_type": "code",
      "source": [
        "class Dog:\n",
        "    def make_sound(self):\n",
        "        print(\"Woof!\")\n",
        "\n",
        "class GermanShepherd(Dog):\n",
        "    def make_sound(self):\n",
        "        print(\"Bark!\")\n",
        "\n",
        "# Creating an instance of GermanShepherd\n",
        "german_shepherd = GermanShepherd()\n",
        "\n",
        "# Calling the make_sound() method of the GermanShepherd class\n",
        "german_shepherd.make_sound()  # Output: Bark!\n"
      ],
      "metadata": {
        "colab": {
          "base_uri": "https://localhost:8080/"
        },
        "id": "g4s59xLQu1B2",
        "outputId": "ea947eea-f9f3-4f8e-8464-e35e4c04b50c"
      },
      "execution_count": null,
      "outputs": [
        {
          "output_type": "stream",
          "name": "stdout",
          "text": [
            "Bark!\n"
          ]
        }
      ]
    },
    {
      "cell_type": "code",
      "source": [
        "# 36. Define constructors in both the Animal and Dog classes with different initialization parameters."
      ],
      "metadata": {
        "id": "pS2x-vmwu6f3"
      },
      "execution_count": null,
      "outputs": []
    },
    {
      "cell_type": "code",
      "source": [
        "class Animal:\n",
        "    def __init__(self, species):\n",
        "        self.species = species\n",
        "\n",
        "class Dog:\n",
        "    def __init__(self, name, breed):\n",
        "        self.name = name\n",
        "        self.breed = breed\n",
        "\n",
        "# Creating an instance of Animal with \"Cat\" species\n",
        "animal = Animal(\"Cat\")\n",
        "print(\"Animal species:\", animal.species)  # Output: Animal species: Cat\n",
        "\n",
        "# Creating an instance of Dog with name \"Buddy\" and breed \"Golden Retriever\"\n",
        "dog = Dog(\"Buddy\", \"Golden Retriever\")\n",
        "print(\"Dog name:\", dog.name)  # Output: Dog name: Buddy\n",
        "print(\"Dog breed:\", dog.breed)  # Output: Dog breed: Golden Retriever\n"
      ],
      "metadata": {
        "colab": {
          "base_uri": "https://localhost:8080/"
        },
        "id": "YjnA39V2vG1h",
        "outputId": "7cd23c2a-e519-4fd1-b7d9-affe9a7244cf"
      },
      "execution_count": null,
      "outputs": [
        {
          "output_type": "stream",
          "name": "stdout",
          "text": [
            "Animal species: Cat\n",
            "Dog name: Buddy\n",
            "Dog breed: Golden Retriever\n"
          ]
        }
      ]
    },
    {
      "cell_type": "code",
      "source": [
        "# 41. Can you provide an example of how abstraction can be utilized to create a common interface for a group of related classes in Python?"
      ],
      "metadata": {
        "id": "GqijAre8vJ_Q"
      },
      "execution_count": null,
      "outputs": []
    },
    {
      "cell_type": "code",
      "source": [
        "from abc import ABC, abstractmethod\n",
        "\n",
        "class Vehicle(ABC):\n",
        "    @abstractmethod\n",
        "    def start(self):\n",
        "        pass\n",
        "\n",
        "    @abstractmethod\n",
        "    def stop(self):\n",
        "        pass\n",
        "\n",
        "    @abstractmethod\n",
        "    def accelerate(self):\n",
        "        pass\n",
        "\n",
        "class Car(Vehicle):\n",
        "    def start(self):\n",
        "        print(\"Car started\")\n",
        "\n",
        "    def stop(self):\n",
        "        print(\"Car stopped\")\n",
        "\n",
        "    def accelerate(self):\n",
        "        print(\"Car accelerated\")\n",
        "\n",
        "class Motorcycle(Vehicle):\n",
        "    def start(self):\n",
        "        print(\"Motorcycle started\")\n",
        "\n",
        "    def stop(self):\n",
        "        print(\"Motorcycle stopped\")\n",
        "\n",
        "    def accelerate(self):\n",
        "        print(\"Motorcycle accelerated\")\n",
        "\n",
        "class Truck(Vehicle):\n",
        "    def start(self):\n",
        "        print(\"Truck started\")\n",
        "\n",
        "    def stop(self):\n",
        "        print(\"Truck stopped\")\n",
        "\n",
        "    def accelerate(self):\n",
        "        print(\"Truck accelerated\")\n",
        "\n",
        "# Usage\n",
        "car = Car()\n",
        "car.start()\n",
        "car.accelerate()\n",
        "car.stop()\n",
        "\n",
        "motorcycle = Motorcycle()\n",
        "motorcycle.start()\n",
        "motorcycle.accelerate()\n",
        "motorcycle.stop()\n",
        "\n",
        "truck = Truck()\n",
        "truck.start()\n",
        "truck.accelerate()\n",
        "truck.stop()\n"
      ],
      "metadata": {
        "colab": {
          "base_uri": "https://localhost:8080/"
        },
        "id": "LqyfNp84xMe1",
        "outputId": "9552c7ae-c6c8-44fe-aa31-c26ca8400dfb"
      },
      "execution_count": null,
      "outputs": [
        {
          "output_type": "stream",
          "name": "stdout",
          "text": [
            "Car started\n",
            "Car accelerated\n",
            "Car stopped\n",
            "Motorcycle started\n",
            "Motorcycle accelerated\n",
            "Motorcycle stopped\n",
            "Truck started\n",
            "Truck accelerated\n",
            "Truck stopped\n"
          ]
        }
      ]
    },
    {
      "cell_type": "code",
      "source": [
        "# 42. How does Python achieve polymorphism through method overriding?"
      ],
      "metadata": {
        "id": "DRxqmWoW1AFJ"
      },
      "execution_count": null,
      "outputs": []
    },
    {
      "cell_type": "code",
      "source": [
        "class Animal:\n",
        "    def speak(self):\n",
        "        print(\"Animal speaks\")\n",
        "\n",
        "class Dog(Animal):\n",
        "    def speak(self):\n",
        "        print(\"Woof!\")\n",
        "\n",
        "class Cat(Animal):\n",
        "    def speak(self):\n",
        "        print(\"Meow!\")\n",
        "\n",
        "# Polymorphic behavior\n",
        "animals = [Dog(), Cat()]\n",
        "for animal in animals:\n",
        "    animal.speak()  # Output: Woof! (from Dog) and Meow! (from Cat)\n"
      ],
      "metadata": {
        "colab": {
          "base_uri": "https://localhost:8080/"
        },
        "id": "T1vdato-1QTY",
        "outputId": "031b9b9d-f1c3-4940-e0ae-cc8e9f2f5fa8"
      },
      "execution_count": null,
      "outputs": [
        {
          "output_type": "stream",
          "name": "stdout",
          "text": [
            "Woof!\n",
            "Meow!\n"
          ]
        }
      ]
    },
    {
      "cell_type": "code",
      "source": [
        "# 43. Define a base class with a method and a subclass that overrides the method"
      ],
      "metadata": {
        "id": "GVxN2wfE1Svw"
      },
      "execution_count": null,
      "outputs": []
    },
    {
      "cell_type": "code",
      "source": [
        "class Shape:\n",
        "    def draw(self):\n",
        "        print(\"Drawing a shape\")\n",
        "\n",
        "class Circle(Shape):\n",
        "    def draw(self):\n",
        "        print(\"Drawing a circle\")\n",
        "\n",
        "# Creating instances of Shape and Circle\n",
        "shape = Shape()\n",
        "circle = Circle()\n",
        "\n",
        "# Calling the draw() method of both instances\n",
        "shape.draw()  # Output: Drawing a shape\n",
        "circle.draw()  # Output: Drawing a circle\n"
      ],
      "metadata": {
        "colab": {
          "base_uri": "https://localhost:8080/"
        },
        "id": "QNVwchMr1g1t",
        "outputId": "c5957cfc-d9b8-4424-fa46-dbf43d2f0e1b"
      },
      "execution_count": null,
      "outputs": [
        {
          "output_type": "stream",
          "name": "stdout",
          "text": [
            "Drawing a shape\n",
            "Drawing a circle\n"
          ]
        }
      ]
    },
    {
      "cell_type": "code",
      "source": [
        "# 44. Define a base class and multiple subclasses with overridden methods."
      ],
      "metadata": {
        "id": "EMNkaDJ61j9u"
      },
      "execution_count": null,
      "outputs": []
    },
    {
      "cell_type": "code",
      "source": [
        "class Animal:\n",
        "    def sound(self):\n",
        "        print(\"Animal makes a sound\")\n",
        "\n",
        "class Dog(Animal):\n",
        "    def sound(self):\n",
        "        print(\"Dog barks\")\n",
        "\n",
        "class Cat(Animal):\n",
        "    def sound(self):\n",
        "        print(\"Cat meows\")\n",
        "\n",
        "class Bird(Animal):\n",
        "    def sound(self):\n",
        "        print(\"Bird chirps\")\n",
        "\n",
        "# Creating instances of subclasses\n",
        "dog = Dog()\n",
        "cat = Cat()\n",
        "bird = Bird()\n",
        "\n",
        "# Calling the overridden methods\n",
        "dog.sound()  # Output: Dog barks\n",
        "cat.sound()  # Output: Cat meows\n",
        "bird.sound()  # Output: Bird chirps\n"
      ],
      "metadata": {
        "colab": {
          "base_uri": "https://localhost:8080/"
        },
        "id": "bQuCi-_U12jB",
        "outputId": "a5fb599b-b1e3-4d94-9cf5-98cecb01532d"
      },
      "execution_count": null,
      "outputs": [
        {
          "output_type": "stream",
          "name": "stdout",
          "text": [
            "Dog barks\n",
            "Cat meows\n",
            "Bird chirps\n"
          ]
        }
      ]
    },
    {
      "cell_type": "code",
      "source": [
        "# 46. Describe how Python supports polymorphism with duck typing."
      ],
      "metadata": {
        "id": "-VSLg6F8144G"
      },
      "execution_count": 1,
      "outputs": []
    },
    {
      "cell_type": "code",
      "source": [
        "class Dog:\n",
        "    def speak(self):\n",
        "        return \"Woof!\"\n",
        "\n",
        "class Cat:\n",
        "    def speak(self):\n",
        "        return \"Meow!\"\n",
        "\n",
        "class Duck:\n",
        "    def speak(self):\n",
        "        return \"Quack!\"\n",
        "\n",
        "# Function that takes any object with a `speak` method\n",
        "def make_sound(animal):\n",
        "    return animal.speak()\n",
        "\n",
        "# Creating instances of different classes\n",
        "dog = Dog()\n",
        "cat = Cat()\n",
        "duck = Duck()\n",
        "\n",
        "# Calling the function with different objects\n",
        "print(make_sound(dog))  # Output: Woof!\n",
        "print(make_sound(cat))  # Output: Meow!\n",
        "print(make_sound(duck)) # Output: Quack!\n"
      ],
      "metadata": {
        "colab": {
          "base_uri": "https://localhost:8080/"
        },
        "id": "wEj8RlYz85ou",
        "outputId": "b1923351-5dbd-4a28-b077-c77e93adfffe"
      },
      "execution_count": 2,
      "outputs": [
        {
          "output_type": "stream",
          "name": "stdout",
          "text": [
            "Woof!\n",
            "Meow!\n",
            "Quack!\n"
          ]
        }
      ]
    },
    {
      "cell_type": "code",
      "source": [
        "# 47. How do you achieve encapsulation in Python?"
      ],
      "metadata": {
        "id": "q6Rg153f8_HM"
      },
      "execution_count": null,
      "outputs": []
    },
    {
      "cell_type": "code",
      "source": [
        "class Car:\n",
        "    def __init__(self, make, model, year):\n",
        "        self.__make = make  # Private attribute\n",
        "        self.__model = model  # Private attribute\n",
        "        self._year = year  # Protected attribute\n",
        "\n",
        "    def display_info(self):\n",
        "        print(f\"Car: {self.__make} {self.__model}, Year: {self._year}\")\n",
        "\n",
        "    def __update_model(self, new_model):  # Private method\n",
        "        self.__model = new_model\n",
        "\n",
        "    def update_info(self, new_model):\n",
        "        self.__update_model(new_model)\n",
        "\n",
        "# Creating an instance of the Car class\n",
        "my_car = Car(\"Toyota\", \"Camry\", 2020)\n",
        "\n",
        "my_car.display_info()  # Output: Car: Toyota Camry, Year: 2020\n",
        "\n",
        "print(my_car._Car__make)  # Output: Toyota\n",
        "\n",
        "\n",
        "my_car.update_info(\"Corolla\")\n",
        "my_car.display_info()  # Output: Car: Toyota Corolla, Year: 2020\n"
      ],
      "metadata": {
        "colab": {
          "base_uri": "https://localhost:8080/"
        },
        "id": "YCGDrHYS-By-",
        "outputId": "ff0e949b-b168-4824-c680-7de714c7443f"
      },
      "execution_count": 3,
      "outputs": [
        {
          "output_type": "stream",
          "name": "stdout",
          "text": [
            "Car: Toyota Camry, Year: 2020\n",
            "Toyota\n",
            "Car: Toyota Corolla, Year: 2020\n"
          ]
        }
      ]
    },
    {
      "cell_type": "code",
      "source": [
        "# 48. Can encapsulation be bypassed in Python? If so, how?"
      ],
      "metadata": {
        "id": "Ez842wXc-Ji2"
      },
      "execution_count": 4,
      "outputs": []
    },
    {
      "cell_type": "code",
      "source": [
        "class MyClass:\n",
        "    def __init__(self):\n",
        "        self.__private_attr = 42\n",
        "\n",
        "    @property\n",
        "    def private_attr(self):\n",
        "        return self.__private_attr\n",
        "\n",
        "    @private_attr.setter\n",
        "    def private_attr(self, value):\n",
        "        self.__private_attr = value\n",
        "\n",
        "obj = MyClass()\n",
        "print(obj.private_attr)  # Output: 42\n",
        "obj.private_attr = 100\n",
        "print(obj.private_attr)  # Output: 100\n"
      ],
      "metadata": {
        "colab": {
          "base_uri": "https://localhost:8080/"
        },
        "id": "5-RPScJO-eqe",
        "outputId": "c2335913-5088-4fc2-9715-0ee449d0c0bd"
      },
      "execution_count": 6,
      "outputs": [
        {
          "output_type": "stream",
          "name": "stdout",
          "text": [
            "42\n",
            "100\n"
          ]
        }
      ]
    },
    {
      "cell_type": "code",
      "source": [
        "# 49. Implement a class BankAccount with a private balance attribute. Include methods to deposit, withdraw, and check the balance."
      ],
      "metadata": {
        "id": "lEBDSyCL-ogA"
      },
      "execution_count": 7,
      "outputs": []
    },
    {
      "cell_type": "code",
      "source": [
        "class BankAccount:\n",
        "    def __init__(self, initial_balance=0):\n",
        "        self.__balance = initial_balance  # Private balance attribute\n",
        "\n",
        "    def deposit(self, amount):\n",
        "\n",
        "        if amount > 0:\n",
        "            self.__balance += amount\n",
        "            print(f\"Deposited ${amount}. New balance: ${self.__balance}\")\n",
        "        else:\n",
        "            print(\"Invalid deposit amount. Amount must be positive.\")\n",
        "\n",
        "    def withdraw(self, amount):\n",
        "\n",
        "        if 0 < amount <= self.__balance:\n",
        "            self.__balance -= amount\n",
        "            print(f\"Withdrew ${amount}. New balance: ${self.__balance}\")\n",
        "        else:\n",
        "            print(\"Invalid withdrawal amount or insufficient funds.\")\n",
        "\n",
        "    def check_balance(self):\n",
        "\n",
        "        print(f\"Current balance: ${self.__balance}\")\n",
        "\n",
        "\n",
        "# Example usage:\n",
        "account = BankAccount(100)  # Create a bank account with initial balance of $100\n",
        "account.deposit(50)         # Deposit $50\n",
        "account.withdraw(30)        # Withdraw $30\n",
        "account.check_balance()     # Check current balance\n"
      ],
      "metadata": {
        "colab": {
          "base_uri": "https://localhost:8080/"
        },
        "id": "8lW1Wsf-_BV0",
        "outputId": "778fb416-ba7e-4dfd-caab-63839681216e"
      },
      "execution_count": 8,
      "outputs": [
        {
          "output_type": "stream",
          "name": "stdout",
          "text": [
            "Deposited $50. New balance: $150\n",
            "Withdrew $30. New balance: $120\n",
            "Current balance: $120\n"
          ]
        }
      ]
    },
    {
      "cell_type": "code",
      "source": [
        "# 50. Develop a Person class with private attributes name and email, and methods to set and get the email."
      ],
      "metadata": {
        "id": "lecAU6J4_J09"
      },
      "execution_count": 9,
      "outputs": []
    },
    {
      "cell_type": "code",
      "source": [
        "class Person:\n",
        "    def __init__(self, name, email):\n",
        "        self.__name = name  # Private attribute\n",
        "        self.__email = email  # Private attribute\n",
        "\n",
        "    def set_email(self, new_email):\n",
        "        \"\"\"Set the email address.\"\"\"\n",
        "        self.__email = new_email\n",
        "\n",
        "    def get_email(self):\n",
        "        \"\"\"Get the email address.\"\"\"\n",
        "        return self.__email\n",
        "\n",
        "    def get_name(self):\n",
        "        \"\"\"Get the name.\"\"\"\n",
        "        return self.__name\n",
        "\n",
        "\n",
        "# Example usage:\n",
        "person = Person(\"John Doe\", \"john.doe@example.com\")\n",
        "print(\"Name:\", person.get_name())\n",
        "print(\"Email:\", person.get_email())\n",
        "\n",
        "person.set_email(\"johndoe@example.com\")\n",
        "print(\"Updated Email:\", person.get_email())\n"
      ],
      "metadata": {
        "colab": {
          "base_uri": "https://localhost:8080/"
        },
        "id": "043wijRF_uwx",
        "outputId": "2e0da117-6423-48a7-ebec-f886d4f938f0"
      },
      "execution_count": 12,
      "outputs": [
        {
          "output_type": "stream",
          "name": "stdout",
          "text": [
            "Name: John Doe\n",
            "Email: john.doe@example.com\n",
            "Updated Email: johndoe@example.com\n"
          ]
        }
      ]
    },
    {
      "cell_type": "code",
      "source": [
        "# 52. Create a decorator in Python that adds functionality to a simple function by printing a message before and after the function execution."
      ],
      "metadata": {
        "id": "kifh3DuF_ypK"
      },
      "execution_count": 13,
      "outputs": []
    },
    {
      "cell_type": "code",
      "source": [
        "def decorator(func):\n",
        "    def wrapper(*args, **kwargs):\n",
        "        print(\"Before function execution\")\n",
        "        result = func(*args, **kwargs)\n",
        "        print(\"After function execution\")\n",
        "        return result\n",
        "    return wrapper\n",
        "\n",
        "# Define a simple function\n",
        "@decorator\n",
        "def greet(name):\n",
        "    print(f\"Hello, {name}!\")\n",
        "\n",
        "# Call the decorated function\n",
        "greet(\"Alice\")\n"
      ],
      "metadata": {
        "colab": {
          "base_uri": "https://localhost:8080/"
        },
        "id": "kpPCm4lgALoj",
        "outputId": "00e587fc-ec60-466c-b3f3-b37d7cd0c540"
      },
      "execution_count": 14,
      "outputs": [
        {
          "output_type": "stream",
          "name": "stdout",
          "text": [
            "Before function execution\n",
            "Hello, Alice!\n",
            "After function execution\n"
          ]
        }
      ]
    },
    {
      "cell_type": "code",
      "source": [
        "# 53. Modity the decorator to accept arguments and print the function name along with the message."
      ],
      "metadata": {
        "id": "tl9No4HpFUl-"
      },
      "execution_count": 15,
      "outputs": []
    },
    {
      "cell_type": "code",
      "source": [
        "def decorator(func):\n",
        "    def wrapper(*args, **kwargs):\n",
        "        print(f\"Before executing {func.__name__}\")\n",
        "        result = func(*args, **kwargs)\n",
        "        print(f\"After executing {func.__name__}\")\n",
        "        return result\n",
        "    return wrapper\n",
        "\n",
        "# Define a simple function\n",
        "@decorator\n",
        "def greet(name):\n",
        "    print(f\"Hello, {name}!\")\n",
        "\n",
        "# Call the decorated function\n",
        "greet(\"Alice\")\n"
      ],
      "metadata": {
        "colab": {
          "base_uri": "https://localhost:8080/"
        },
        "id": "NyJ20AmcFcps",
        "outputId": "a26fa237-c056-470c-b93f-7d5d11b341c2"
      },
      "execution_count": 16,
      "outputs": [
        {
          "output_type": "stream",
          "name": "stdout",
          "text": [
            "Before executing greet\n",
            "Hello, Alice!\n",
            "After executing greet\n"
          ]
        }
      ]
    },
    {
      "cell_type": "code",
      "source": [
        "# 54. Create two decorators, and apply them to a single function. Ensure that they execute in the order they are applied."
      ],
      "metadata": {
        "id": "cQmzw7o8FemN"
      },
      "execution_count": 18,
      "outputs": []
    },
    {
      "cell_type": "code",
      "source": [
        "def decorator1(func):\n",
        "    def wrapper1(*args, **kwargs):\n",
        "        print(\"Decorator 1: Before function execution\")\n",
        "        result = func(*args, **kwargs)\n",
        "        print(\"Decorator 1: After function execution\")\n",
        "        return result\n",
        "    return wrapper1\n",
        "\n",
        "def decorator2(func):\n",
        "    def wrapper2(*args, **kwargs):\n",
        "        print(\"Decorator 2: Before function execution\")\n",
        "        result = func(*args, **kwargs)\n",
        "        print(\"Decorator 2: After function execution\")\n",
        "        return result\n",
        "    return wrapper2\n",
        "\n",
        "@decorator1\n",
        "@decorator2\n",
        "def my_function():\n",
        "    print(\"Inside my_function\")\n",
        "\n",
        "# Call the decorated function\n",
        "my_function()\n"
      ],
      "metadata": {
        "colab": {
          "base_uri": "https://localhost:8080/"
        },
        "id": "5rFEGy3HFrIg",
        "outputId": "cf8821b2-e053-4fb2-bf06-e230b27615c7"
      },
      "execution_count": 19,
      "outputs": [
        {
          "output_type": "stream",
          "name": "stdout",
          "text": [
            "Decorator 1: Before function execution\n",
            "Decorator 2: Before function execution\n",
            "Inside my_function\n",
            "Decorator 2: After function execution\n",
            "Decorator 1: After function execution\n"
          ]
        }
      ]
    },
    {
      "cell_type": "code",
      "source": [
        "# 55. Modify the decorator to accept and pass function arguments to the wrapped function."
      ],
      "metadata": {
        "id": "HJO1mxQSFvW_"
      },
      "execution_count": 20,
      "outputs": []
    },
    {
      "cell_type": "code",
      "source": [
        "def decorator1(func):\n",
        "    def wrapper1(*args, **kwargs):\n",
        "        print(\"Decorator 1: Before function execution\")\n",
        "        result = func(*args, **kwargs)  # Pass arguments to the wrapped function\n",
        "        print(\"Decorator 1: After function execution\")\n",
        "        return result\n",
        "    return wrapper1\n",
        "\n",
        "def decorator2(func):\n",
        "    def wrapper2(*args, **kwargs):\n",
        "        print(\"Decorator 2: Before function execution\")\n",
        "        result = func(*args, **kwargs)  # Pass arguments to the wrapped function\n",
        "        print(\"Decorator 2: After function execution\")\n",
        "        return result\n",
        "    return wrapper2\n",
        "\n",
        "@decorator1\n",
        "@decorator2\n",
        "def my_function(message):\n",
        "    print(f\"Inside my_function with message: {message}\")\n",
        "\n",
        "# Call the decorated function with arguments\n",
        "my_function(\"Hello, world!\")\n"
      ],
      "metadata": {
        "colab": {
          "base_uri": "https://localhost:8080/"
        },
        "id": "C0_XSXM6F3SS",
        "outputId": "0472ae87-521b-4e0e-aeec-30ec586414e4"
      },
      "execution_count": 21,
      "outputs": [
        {
          "output_type": "stream",
          "name": "stdout",
          "text": [
            "Decorator 1: Before function execution\n",
            "Decorator 2: Before function execution\n",
            "Inside my_function with message: Hello, world!\n",
            "Decorator 2: After function execution\n",
            "Decorator 1: After function execution\n"
          ]
        }
      ]
    },
    {
      "cell_type": "code",
      "source": [
        "# 56. Create a decorator that preserves the metadata of the original function."
      ],
      "metadata": {
        "id": "siBXsQ-7F7Ky"
      },
      "execution_count": 22,
      "outputs": []
    },
    {
      "cell_type": "code",
      "source": [
        "from functools import wraps\n",
        "\n",
        "def my_decorator(func):\n",
        "    @wraps(func)\n",
        "    def wrapper(*args, **kwargs):\n",
        "        print(\"Decorator: Before function execution\")\n",
        "        result = func(*args, **kwargs)\n",
        "        print(\"Decorator: After function execution\")\n",
        "        return result\n",
        "    return wrapper\n",
        "\n",
        "@my_decorator\n",
        "def my_function():\n",
        "    \"\"\"This is the original function\"\"\"\n",
        "    print(\"Inside my_function\")\n",
        "\n",
        "# Call the decorated function\n",
        "my_function()\n",
        "\n",
        "# Print metadata of the decorated function\n",
        "print(\"Function name:\", my_function.__name__)\n",
        "print(\"Function docstring:\", my_function.__doc__)\n"
      ],
      "metadata": {
        "colab": {
          "base_uri": "https://localhost:8080/"
        },
        "id": "heMYKVSxGI3O",
        "outputId": "11a7b8f1-5337-40b1-8c38-582fb569d4bf"
      },
      "execution_count": 23,
      "outputs": [
        {
          "output_type": "stream",
          "name": "stdout",
          "text": [
            "Decorator: Before function execution\n",
            "Inside my_function\n",
            "Decorator: After function execution\n",
            "Function name: my_function\n",
            "Function docstring: This is the original function\n"
          ]
        }
      ]
    },
    {
      "cell_type": "code",
      "source": [
        "# 57. Create a Python class 'Calculator' with a static method 'add' that takes in two numbers and returns their sum."
      ],
      "metadata": {
        "id": "xYBaZTHLGMTj"
      },
      "execution_count": 24,
      "outputs": []
    },
    {
      "cell_type": "code",
      "source": [
        "class Calculator:\n",
        "    @staticmethod\n",
        "    def add(num1, num2):\n",
        "        \"\"\"Static method to add two numbers.\"\"\"\n",
        "        return num1 + num2\n",
        "\n",
        "# Example usage:\n",
        "result = Calculator.add(5, 3)\n",
        "print(\"Result of addition:\", result)  # Output: 8\n"
      ],
      "metadata": {
        "colab": {
          "base_uri": "https://localhost:8080/"
        },
        "id": "69NKJB8CGbQ9",
        "outputId": "50e61ec6-5249-4c76-d241-429b83b432cf"
      },
      "execution_count": 25,
      "outputs": [
        {
          "output_type": "stream",
          "name": "stdout",
          "text": [
            "Result of addition: 8\n"
          ]
        }
      ]
    },
    {
      "cell_type": "code",
      "source": [
        "# 58. Create a Python class 'Employee' with a class 'method get_employee_count that returns the total number of employees created."
      ],
      "metadata": {
        "id": "Pbz00LePGduu"
      },
      "execution_count": 26,
      "outputs": []
    },
    {
      "cell_type": "code",
      "source": [
        "class Employee:\n",
        "    # Class-level variable to store the count of employees\n",
        "    total_employees = 0\n",
        "\n",
        "    def __init__(self, name):\n",
        "        self.name = name\n",
        "        # Increment the total number of employees when a new instance is created\n",
        "        Employee.total_employees += 1\n",
        "\n",
        "    @classmethod\n",
        "    def get_employee_count(cls):\n",
        "        \"\"\"Class method to get the total number of employees created.\"\"\"\n",
        "        return cls.total_employees\n",
        "\n",
        "# Example usage:\n",
        "emp1 = Employee(\"John\")\n",
        "emp2 = Employee(\"Alice\")\n",
        "\n",
        "# Get the total number of employees using the class method\n",
        "total_employees = Employee.get_employee_count()\n",
        "print(\"Total number of employees:\", total_employees)  # Output: 2\n"
      ],
      "metadata": {
        "colab": {
          "base_uri": "https://localhost:8080/"
        },
        "id": "eJ_Gc921Gn55",
        "outputId": "e8cb7593-51ef-4c15-e6a4-b6353a39ebb4"
      },
      "execution_count": 27,
      "outputs": [
        {
          "output_type": "stream",
          "name": "stdout",
          "text": [
            "Total number of employees: 2\n"
          ]
        }
      ]
    },
    {
      "cell_type": "code",
      "source": [
        "# 59. Create a Python class 'StringFormatter' with a static method 'reverse_string' that takes a string as input\n",
        "# and returns its reverse."
      ],
      "metadata": {
        "id": "bWfywsJ1GqkP"
      },
      "execution_count": 28,
      "outputs": []
    },
    {
      "cell_type": "code",
      "source": [
        "class StringFormatter:\n",
        "    @staticmethod\n",
        "    def reverse_string(input_string):\n",
        "        \"\"\"Static method to reverse a string.\"\"\"\n",
        "        return input_string[::-1]\n",
        "\n",
        "# Example usage:\n",
        "reversed_string = StringFormatter.reverse_string(\"hello\")\n",
        "print(\"Reversed string:\", reversed_string)  # Output: olleh\n"
      ],
      "metadata": {
        "colab": {
          "base_uri": "https://localhost:8080/"
        },
        "id": "SJLE1WF8G3SI",
        "outputId": "4bb2be68-43d3-4b87-f8e3-d0848132366e"
      },
      "execution_count": 29,
      "outputs": [
        {
          "output_type": "stream",
          "name": "stdout",
          "text": [
            "Reversed string: olleh\n"
          ]
        }
      ]
    },
    {
      "cell_type": "code",
      "source": [
        "# 60. Create a Python class 'Circle' with a class method \"calculate_area' that calculates the area of a circle\n",
        "# given its radius."
      ],
      "metadata": {
        "id": "Rej5p3HYG5oR"
      },
      "execution_count": 30,
      "outputs": []
    },
    {
      "cell_type": "code",
      "source": [
        "import math\n",
        "\n",
        "class Circle:\n",
        "    @classmethod\n",
        "    def calculate_area(cls, radius):\n",
        "        \"\"\"Class method to calculate the area of a circle.\"\"\"\n",
        "        return math.pi * radius ** 2\n",
        "\n",
        "# Example usage:\n",
        "radius = 5\n",
        "area = Circle.calculate_area(radius)\n",
        "print(\"Area of the circle with radius\", radius, \"is:\", area)\n"
      ],
      "metadata": {
        "colab": {
          "base_uri": "https://localhost:8080/"
        },
        "id": "p3PyR7JwIp-f",
        "outputId": "be01efac-1a45-44ab-92c0-e69fd98bd3f9"
      },
      "execution_count": 31,
      "outputs": [
        {
          "output_type": "stream",
          "name": "stdout",
          "text": [
            "Area of the circle with radius 5 is: 78.53981633974483\n"
          ]
        }
      ]
    },
    {
      "cell_type": "code",
      "source": [
        "# 61. Create a Python class 'TemperatureConverter' with a static method 'celsius_to_fahrenheit' that converts\n",
        "# Celsius to Fahrenheit."
      ],
      "metadata": {
        "id": "F9iSoGtIIr6H"
      },
      "execution_count": 32,
      "outputs": []
    },
    {
      "cell_type": "code",
      "source": [
        "class TemperatureConverter:\n",
        "    @staticmethod\n",
        "    def celsius_to_fahrenheit(celsius):\n",
        "        \"\"\"Static method to convert Celsius to Fahrenheit.\"\"\"\n",
        "        return (celsius * 9/5) + 32\n",
        "\n",
        "# Example usage:\n",
        "celsius_temperature = 20\n",
        "fahrenheit_temperature = TemperatureConverter.celsius_to_fahrenheit(celsius_temperature)\n",
        "print(\"Fahrenheit temperature:\", fahrenheit_temperature)\n"
      ],
      "metadata": {
        "colab": {
          "base_uri": "https://localhost:8080/"
        },
        "id": "5kCYCq4-I4RR",
        "outputId": "b11e0146-256b-450b-c9d1-c4ce0bb989a1"
      },
      "execution_count": 33,
      "outputs": [
        {
          "output_type": "stream",
          "name": "stdout",
          "text": [
            "Fahrenheit temperature: 68.0\n"
          ]
        }
      ]
    },
    {
      "cell_type": "code",
      "source": [
        "# 62. What is the purpose of the __ str __ () method in Python classes? Provide an example."
      ],
      "metadata": {
        "id": "TqTLzBjGI6Hh"
      },
      "execution_count": 34,
      "outputs": []
    },
    {
      "cell_type": "code",
      "source": [
        "class Person:\n",
        "    def __init__(self, name, age):\n",
        "        self.name = name\n",
        "        self.age = age\n",
        "\n",
        "    def __str__(self):\n",
        "        return f\"Person: {self.name}, Age: {self.age}\"\n",
        "\n",
        "# Create a Person object\n",
        "person = Person(\"John Doe\", 30)\n",
        "\n",
        "# Print the object using the print() function\n",
        "print(person)  # Output: Person: John Doe, Age: 30\n",
        "\n",
        "# Convert the object to a string using the str() function\n",
        "string_representation = str(person)\n",
        "print(string_representation)  # Output: Person: John Doe, Age: 30\n"
      ],
      "metadata": {
        "colab": {
          "base_uri": "https://localhost:8080/"
        },
        "id": "BbDCdAeXJRYc",
        "outputId": "6b2d0225-7291-4cbf-e097-c68e46cfbf1e"
      },
      "execution_count": 35,
      "outputs": [
        {
          "output_type": "stream",
          "name": "stdout",
          "text": [
            "Person: John Doe, Age: 30\n",
            "Person: John Doe, Age: 30\n"
          ]
        }
      ]
    },
    {
      "cell_type": "code",
      "source": [
        "# 63. How does the __ len __ () method work in Python? Provide an example"
      ],
      "metadata": {
        "id": "mzKX5NvGJU3M"
      },
      "execution_count": 36,
      "outputs": []
    },
    {
      "cell_type": "code",
      "source": [
        "class MyList:\n",
        "    def __init__(self, data):\n",
        "        self.data = data\n",
        "\n",
        "    def __len__(self):\n",
        "        return len(self.data)\n",
        "\n",
        "# Create an instance of MyList\n",
        "my_list = MyList([1, 2, 3, 4, 5])\n",
        "\n",
        "# Call the len() function on the MyList object\n",
        "length = len(my_list)\n",
        "print(\"Length of the list:\", length)  # Output: Length of the list: 5\n"
      ],
      "metadata": {
        "colab": {
          "base_uri": "https://localhost:8080/"
        },
        "id": "h3mmVW29J2nF",
        "outputId": "abf0449f-1b99-48fd-fe62-b83317f21e21"
      },
      "execution_count": 37,
      "outputs": [
        {
          "output_type": "stream",
          "name": "stdout",
          "text": [
            "Length of the list: 5\n"
          ]
        }
      ]
    },
    {
      "cell_type": "code",
      "source": [
        "# 64. Explain the usage of the __ add __ () method in Python classes. Provide an example."
      ],
      "metadata": {
        "id": "R_r3eHt5J4wB"
      },
      "execution_count": 38,
      "outputs": []
    },
    {
      "cell_type": "code",
      "source": [
        "class Point:\n",
        "    def __init__(self, x, y):\n",
        "        self.x = x\n",
        "        self.y = y\n",
        "\n",
        "    def __add__(self, other):\n",
        "        \"\"\"Override the addition operator.\"\"\"\n",
        "        # Add the coordinates of two points\n",
        "        new_x = self.x + other.x\n",
        "        new_y = self.y + other.y\n",
        "        return Point(new_x, new_y)\n",
        "\n",
        "    def __str__(self):\n",
        "        \"\"\"Override the string representation.\"\"\"\n",
        "        return f\"({self.x}, {self.y})\"\n",
        "\n",
        "# Create two Point objects\n",
        "point1 = Point(1, 2)\n",
        "point2 = Point(3, 4)\n",
        "\n",
        "# Add the two Point objects using the '+' operator\n",
        "result = point1 + point2\n",
        "\n",
        "# Print the result\n",
        "print(\"Result of addition:\", result)  # Output: Result of addition: (4, 6)\n"
      ],
      "metadata": {
        "colab": {
          "base_uri": "https://localhost:8080/"
        },
        "id": "kOoJ88TaKQBa",
        "outputId": "96ad8e3c-b5b9-4b2b-bc3f-8d66fcd0086e"
      },
      "execution_count": 39,
      "outputs": [
        {
          "output_type": "stream",
          "name": "stdout",
          "text": [
            "Result of addition: (4, 6)\n"
          ]
        }
      ]
    },
    {
      "cell_type": "code",
      "source": [
        "# 65. What is the purpose of the __ getitem __ () method in Python? Provide an example."
      ],
      "metadata": {
        "id": "D-NKpt9XKS9m"
      },
      "execution_count": 40,
      "outputs": []
    },
    {
      "cell_type": "code",
      "source": [
        "class MyList:\n",
        "    def __init__(self, data):\n",
        "        self.data = data\n",
        "\n",
        "    def __getitem__(self, index):\n",
        "        \"\"\"Override the indexing and slicing operation.\"\"\"\n",
        "        return self.data[index]\n",
        "\n",
        "# Create an instance of MyList\n",
        "my_list = MyList([1, 2, 3, 4, 5])\n",
        "\n",
        "# Access elements using indexing\n",
        "print(\"Element at index 0:\", my_list[0])  # Output: Element at index 0: 1\n",
        "\n",
        "# Access elements using slicing\n",
        "print(\"Slice from index 1 to 3:\", my_list[1:4])  # Output: Slice from index 1 to 3: [2, 3, 4]\n"
      ],
      "metadata": {
        "colab": {
          "base_uri": "https://localhost:8080/"
        },
        "id": "BEtMw3zEKcck",
        "outputId": "ce30bc59-3bd9-440d-eef2-3fda5a666ec0"
      },
      "execution_count": 41,
      "outputs": [
        {
          "output_type": "stream",
          "name": "stdout",
          "text": [
            "Element at index 0: 1\n",
            "Slice from index 1 to 3: [2, 3, 4]\n"
          ]
        }
      ]
    },
    {
      "cell_type": "code",
      "source": [
        "# 66. Explain the usage of the __ iter __ () and __ next_() methods in Python. Provide an example using iterators."
      ],
      "metadata": {
        "id": "gQpcxnzXKn7h"
      },
      "execution_count": 42,
      "outputs": []
    },
    {
      "cell_type": "code",
      "source": [
        "class MyIterator:\n",
        "    def __init__(self, data):\n",
        "        self.data = data\n",
        "        self.index = 0\n",
        "\n",
        "    def __iter__(self):\n",
        "        return self\n",
        "\n",
        "    def __next__(self):\n",
        "        if self.index < len(self.data):\n",
        "            item = self.data[self.index]\n",
        "            self.index += 1\n",
        "            return item\n",
        "        else:\n",
        "            raise StopIteration\n",
        "\n",
        "# Example usage:\n",
        "my_iterator = MyIterator([1, 2, 3, 4, 5])\n",
        "\n",
        "for item in my_iterator:\n",
        "    print(item)\n"
      ],
      "metadata": {
        "colab": {
          "base_uri": "https://localhost:8080/"
        },
        "id": "cy46dEjfLPEj",
        "outputId": "4365c987-daaa-4680-f3d7-8e0ce39a66e2"
      },
      "execution_count": 43,
      "outputs": [
        {
          "output_type": "stream",
          "name": "stdout",
          "text": [
            "1\n",
            "2\n",
            "3\n",
            "4\n",
            "5\n"
          ]
        }
      ]
    },
    {
      "cell_type": "code",
      "source": [
        "# 67. What is the purpose of a getter method in Python? Provide an example demonstrating the use of a getter method using property decorators"
      ],
      "metadata": {
        "id": "Z-g2LEp6LRGy"
      },
      "execution_count": 44,
      "outputs": []
    },
    {
      "cell_type": "code",
      "source": [
        "class Circle:\n",
        "    def __init__(self, radius):\n",
        "        self._radius = radius\n",
        "\n",
        "    @property\n",
        "    def radius(self):\n",
        "        \"\"\"Getter method for accessing the radius.\"\"\"\n",
        "        return self._radius\n",
        "\n",
        "# Create an instance of the Circle class\n",
        "circle = Circle(5)\n",
        "\n",
        "# Access the radius attribute using the getter method\n",
        "print(\"Radius of the circle:\", circle.radius)  # Output: Radius of the circle: 5\n"
      ],
      "metadata": {
        "colab": {
          "base_uri": "https://localhost:8080/"
        },
        "id": "gOzJEL7NL9zg",
        "outputId": "dca20bf2-7dd0-4992-858a-4e5c0d753bc7"
      },
      "execution_count": 45,
      "outputs": [
        {
          "output_type": "stream",
          "name": "stdout",
          "text": [
            "Radius of the circle: 5\n"
          ]
        }
      ]
    },
    {
      "cell_type": "code",
      "source": [
        "# 68. Explain the role of setter methods in Python. Demonstrate how to use a setter method to modify a class attribute using property decorators."
      ],
      "metadata": {
        "id": "-luzRxImL_Pq"
      },
      "execution_count": 46,
      "outputs": []
    },
    {
      "cell_type": "code",
      "source": [
        "class Circle:\n",
        "    def __init__(self, radius):\n",
        "        self._radius = radius\n",
        "\n",
        "    @property\n",
        "    def radius(self):\n",
        "        \"\"\"Getter method for accessing the radius.\"\"\"\n",
        "        return self._radius\n",
        "\n",
        "    @radius.setter\n",
        "    def radius(self, value):\n",
        "        \"\"\"Setter method for modifying the radius.\"\"\"\n",
        "        if value <= 0:\n",
        "            raise ValueError(\"Radius must be a positive number.\")\n",
        "        self._radius = value\n",
        "\n",
        "# Create an instance of the Circle class\n",
        "circle = Circle(5)\n",
        "\n",
        "print(\"Initial radius of the circle:\", circle.radius)  # Output: Initial radius of the circle: 5\n",
        "\n",
        "circle.radius = 10\n",
        "\n",
        "print(\"Modified radius of the circle:\", circle.radius)  # Output: Modified radius of the circle: 10\n"
      ],
      "metadata": {
        "colab": {
          "base_uri": "https://localhost:8080/"
        },
        "id": "aqk1MYFcMlh9",
        "outputId": "969f7258-be8d-46b4-bd06-1690d55b20aa"
      },
      "execution_count": 47,
      "outputs": [
        {
          "output_type": "stream",
          "name": "stdout",
          "text": [
            "Initial radius of the circle: 5\n",
            "Modified radius of the circle: 10\n"
          ]
        }
      ]
    },
    {
      "cell_type": "code",
      "source": [
        "# 69. What is the purpose of the @property decorator in Python? Provide an example illustrating its usage."
      ],
      "metadata": {
        "id": "9qhlmxryMrT2"
      },
      "execution_count": 48,
      "outputs": []
    },
    {
      "cell_type": "code",
      "source": [
        "class Circle:\n",
        "    def __init__(self, radius):\n",
        "        self._radius = radius\n",
        "\n",
        "    @property\n",
        "    def radius(self):\n",
        "        \"\"\"Getter method for accessing the radius.\"\"\"\n",
        "        return self._radius\n",
        "\n",
        "    @radius.setter\n",
        "    def radius(self, value):\n",
        "        \"\"\"Setter method for modifying the radius.\"\"\"\n",
        "        if value <= 0:\n",
        "            raise ValueError(\"Radius must be a positive number.\")\n",
        "        self._radius = value\n",
        "\n",
        "# Create an instance of the Circle class\n",
        "circle = Circle(5)\n",
        "\n",
        "# Access the radius attribute using the property\n",
        "print(\"Initial radius of the circle:\", circle.radius)  # Output: Initial radius of the circle: 5\n",
        "\n",
        "# Modify the radius attribute using the property\n",
        "circle.radius = 10\n",
        "\n",
        "# Access the radius attribute again to verify the modification\n",
        "print(\"Modified radius of the circle:\", circle.radius)  # Output: Modified radius of the circle: 10\n"
      ],
      "metadata": {
        "colab": {
          "base_uri": "https://localhost:8080/"
        },
        "id": "8sLtBHfVNgc0",
        "outputId": "f49a9ea7-d6a5-46d5-dd26-7efa1979aae5"
      },
      "execution_count": 49,
      "outputs": [
        {
          "output_type": "stream",
          "name": "stdout",
          "text": [
            "Initial radius of the circle: 5\n",
            "Modified radius of the circle: 10\n"
          ]
        }
      ]
    },
    {
      "cell_type": "code",
      "source": [
        "# 70. Explain the use of the @deleter decorator in Python property decorators. Provide a code"
      ],
      "metadata": {
        "id": "M9f9omSoNkOE"
      },
      "execution_count": 50,
      "outputs": []
    },
    {
      "cell_type": "code",
      "source": [
        "class Person:\n",
        "    def __init__(self, name):\n",
        "        self._name = name\n",
        "\n",
        "    @property\n",
        "    def name(self):\n",
        "        \"\"\"Getter method for accessing the name.\"\"\"\n",
        "        return self._name\n",
        "\n",
        "    @name.deleter\n",
        "    def name(self):\n",
        "        \"\"\"Deleter method for deleting the name.\"\"\"\n",
        "        print(f\"Deleting the name: {self._name}\")\n",
        "        del self._name\n",
        "\n",
        "# Create an instance of the Person class\n",
        "person = Person(\"Alice\")\n",
        "\n",
        "# Access the name attribute using the property\n",
        "print(\"Current name of the person:\", person.name)  # Output: Current name of the person: Alice\n",
        "\n",
        "# Delete the name attribute using the property\n",
        "del person.name\n",
        "\n",
        "# Try to access the name attribute again (raises AttributeError)\n",
        "print(\"Current name of the person:\", person.name)  # Raises AttributeError\n"
      ],
      "metadata": {
        "id": "Xw6LAMIDYyWU"
      },
      "execution_count": null,
      "outputs": []
    },
    {
      "cell_type": "code",
      "source": [
        "# 71. How does encapsulation relate to property decorators in Python? Provide an example showcasing\n",
        "# encapsulation using property decorators."
      ],
      "metadata": {
        "id": "fNABE4VOY4E4"
      },
      "execution_count": 64,
      "outputs": []
    },
    {
      "cell_type": "code",
      "source": [
        "class Person:\n",
        "    def __init__(self, name, age):\n",
        "        self._name = name\n",
        "        self._age = age\n",
        "\n",
        "    @property\n",
        "    def name(self):\n",
        "        \"\"\"Getter method for accessing the name.\"\"\"\n",
        "        return self._name\n",
        "\n",
        "    @name.setter\n",
        "    def name(self, value):\n",
        "        \"\"\"Setter method for modifying the name.\"\"\"\n",
        "        if not isinstance(value, str):\n",
        "            raise TypeError(\"Name must be a string.\")\n",
        "        self._name = value\n",
        "\n",
        "    @property\n",
        "    def age(self):\n",
        "        \"\"\"Getter method for accessing the age.\"\"\"\n",
        "        return self._age\n",
        "\n",
        "    @age.setter\n",
        "    def age(self, value):\n",
        "        \"\"\"Setter method for modifying the age.\"\"\"\n",
        "        if not isinstance(value, int) or value < 0:\n",
        "            raise ValueError(\"Age must be a non-negative integer.\")\n",
        "        self._age = value\n",
        "\n",
        "# Create an instance of the Person class\n",
        "person = Person(\"Alice\", 30)\n",
        "\n",
        "# Access and modify attributes using property methods\n",
        "print(\"Name:\", person.name)  # Output: Name: Alice\n",
        "print(\"Age:\", person.age)    # Output: Age: 30\n",
        "\n",
        "person.name = \"Bob\"  # Modify name attribute\n",
        "person.age = 25      # Modify age attribute\n",
        "\n",
        "print(\"Modified Name:\", person.name)  # Output: Modified Name: Bob\n",
        "print(\"Modified Age:\", person.age)    # Output: Modified Age: 25\n",
        "\n",
        "# Attempt to set invalid values (raises TypeError and ValueError)\n",
        "person.name = 100    # Raises TypeError\n",
        "person.age = -5      # Raises ValueError\n"
      ],
      "metadata": {
        "colab": {
          "base_uri": "https://localhost:8080/",
          "height": 384
        },
        "id": "qFRgmsK5Y_7-",
        "outputId": "ca75d252-c648-401c-8489-f4af08071843"
      },
      "execution_count": 65,
      "outputs": [
        {
          "output_type": "stream",
          "name": "stdout",
          "text": [
            "Name: Alice\n",
            "Age: 30\n",
            "Modified Name: Bob\n",
            "Modified Age: 25\n"
          ]
        },
        {
          "output_type": "error",
          "ename": "TypeError",
          "evalue": "Name must be a string.",
          "traceback": [
            "\u001b[0;31m---------------------------------------------------------------------------\u001b[0m",
            "\u001b[0;31mTypeError\u001b[0m                                 Traceback (most recent call last)",
            "\u001b[0;32m<ipython-input-65-234fe6c7f09e>\u001b[0m in \u001b[0;36m<cell line: 44>\u001b[0;34m()\u001b[0m\n\u001b[1;32m     42\u001b[0m \u001b[0;34m\u001b[0m\u001b[0m\n\u001b[1;32m     43\u001b[0m \u001b[0;31m# Attempt to set invalid values (raises TypeError and ValueError)\u001b[0m\u001b[0;34m\u001b[0m\u001b[0;34m\u001b[0m\u001b[0m\n\u001b[0;32m---> 44\u001b[0;31m \u001b[0mperson\u001b[0m\u001b[0;34m.\u001b[0m\u001b[0mname\u001b[0m \u001b[0;34m=\u001b[0m \u001b[0;36m100\u001b[0m    \u001b[0;31m# Raises TypeError\u001b[0m\u001b[0;34m\u001b[0m\u001b[0;34m\u001b[0m\u001b[0m\n\u001b[0m\u001b[1;32m     45\u001b[0m \u001b[0mperson\u001b[0m\u001b[0;34m.\u001b[0m\u001b[0mage\u001b[0m \u001b[0;34m=\u001b[0m \u001b[0;34m-\u001b[0m\u001b[0;36m5\u001b[0m      \u001b[0;31m# Raises ValueError\u001b[0m\u001b[0;34m\u001b[0m\u001b[0;34m\u001b[0m\u001b[0m\n",
            "\u001b[0;32m<ipython-input-65-234fe6c7f09e>\u001b[0m in \u001b[0;36mname\u001b[0;34m(self, value)\u001b[0m\n\u001b[1;32m     13\u001b[0m         \u001b[0;34m\"\"\"Setter method for modifying the name.\"\"\"\u001b[0m\u001b[0;34m\u001b[0m\u001b[0;34m\u001b[0m\u001b[0m\n\u001b[1;32m     14\u001b[0m         \u001b[0;32mif\u001b[0m \u001b[0;32mnot\u001b[0m \u001b[0misinstance\u001b[0m\u001b[0;34m(\u001b[0m\u001b[0mvalue\u001b[0m\u001b[0;34m,\u001b[0m \u001b[0mstr\u001b[0m\u001b[0;34m)\u001b[0m\u001b[0;34m:\u001b[0m\u001b[0;34m\u001b[0m\u001b[0;34m\u001b[0m\u001b[0m\n\u001b[0;32m---> 15\u001b[0;31m             \u001b[0;32mraise\u001b[0m \u001b[0mTypeError\u001b[0m\u001b[0;34m(\u001b[0m\u001b[0;34m\"Name must be a string.\"\u001b[0m\u001b[0;34m)\u001b[0m\u001b[0;34m\u001b[0m\u001b[0;34m\u001b[0m\u001b[0m\n\u001b[0m\u001b[1;32m     16\u001b[0m         \u001b[0mself\u001b[0m\u001b[0;34m.\u001b[0m\u001b[0m_name\u001b[0m \u001b[0;34m=\u001b[0m \u001b[0mvalue\u001b[0m\u001b[0;34m\u001b[0m\u001b[0;34m\u001b[0m\u001b[0m\n\u001b[1;32m     17\u001b[0m \u001b[0;34m\u001b[0m\u001b[0m\n",
            "\u001b[0;31mTypeError\u001b[0m: Name must be a string."
          ]
        }
      ]
    },
    {
      "cell_type": "code",
      "source": [],
      "metadata": {
        "id": "HUFV8gQgZJGX"
      },
      "execution_count": null,
      "outputs": []
    }
  ]
}